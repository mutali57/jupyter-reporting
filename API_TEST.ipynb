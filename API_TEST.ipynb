{
 "cells": [
  {
   "cell_type": "code",
   "execution_count": 1,
   "id": "bc0c3038",
   "metadata": {},
   "outputs": [
    {
     "name": "stdout",
     "output_type": "stream",
     "text": [
      "Seconds since epoch: 1672524000.0\n",
      "YjSoIubiejSTHMdjoKwId1ce\n"
     ]
    },
    {
     "ename": "NameError",
     "evalue": "name 'md' is not defined",
     "output_type": "error",
     "traceback": [
      "\u001b[1;31m---------------------------------------------------------------------------\u001b[0m",
      "\u001b[1;31mNameError\u001b[0m                                 Traceback (most recent call last)",
      "\u001b[1;32m~\\AppData\\Local\\Temp\\ipykernel_20372\\323113133.py\u001b[0m in \u001b[0;36m<module>\u001b[1;34m\u001b[0m\n\u001b[0;32m     31\u001b[0m }\n\u001b[0;32m     32\u001b[0m \u001b[1;33m\u001b[0m\u001b[0m\n\u001b[1;32m---> 33\u001b[1;33m \u001b[0mresponse\u001b[0m \u001b[1;33m=\u001b[0m \u001b[0mrequests\u001b[0m\u001b[1;33m.\u001b[0m\u001b[0mget\u001b[0m\u001b[1;33m(\u001b[0m\u001b[0mmd\u001b[0m\u001b[1;33m,\u001b[0m \u001b[0mheaders\u001b[0m\u001b[1;33m=\u001b[0m\u001b[0mheaders\u001b[0m\u001b[1;33m)\u001b[0m\u001b[1;33m\u001b[0m\u001b[1;33m\u001b[0m\u001b[0m\n\u001b[0m\u001b[0;32m     34\u001b[0m \u001b[1;33m\u001b[0m\u001b[0m\n\u001b[0;32m     35\u001b[0m \u001b[1;32mif\u001b[0m \u001b[0mresponse\u001b[0m\u001b[1;33m.\u001b[0m\u001b[0mstatus_code\u001b[0m \u001b[1;33m!=\u001b[0m \u001b[1;36m200\u001b[0m\u001b[1;33m:\u001b[0m\u001b[1;33m\u001b[0m\u001b[1;33m\u001b[0m\u001b[0m\n",
      "\u001b[1;31mNameError\u001b[0m: name 'md' is not defined"
     ]
    }
   ],
   "source": [
    "import requests\n",
    "import json\n",
    "from datetime import datetime\n",
    "import pandas as pd\n",
    "df = pd.DataFrame()\n",
    "# input datetime\n",
    "start = datetime(2023, 1, 1, 0, 0)\n",
    "end= datetime(2023, 2, 1, 0, 0)\n",
    "print('Seconds since epoch:', start.timestamp())\n",
    "def jprint(obj):\n",
    "    # create a formatted string of the Python JSON object\n",
    "    text = json.dumps(obj, sort_keys=True, indent=4)\n",
    "    print(text)\n",
    "parameters = {\n",
    "\"username\":\"harmattan\",\n",
    "    \"password\":\"r6DmHGhf\"\n",
    "}\n",
    "response = requests.post(\"https://southafrica.higeco.com/api/v1/authenticate\",json=parameters)\n",
    "\n",
    "tk = json.loads(response.text)['token']\n",
    "\n",
    "print (tk)\n",
    "\n",
    "\n",
    "mid = \"https://southafrica.higeco.com/api/v1/plants/118/devices/3163FTFGI39D/logs/2051744/items/2051744749\"\n",
    "midget=\"https://southafrica.higeco.com//api/v1/getLogData/118/3163FTFGI39D/2051744/2051744749?from=1458811054&to=1458897454&samplingTime=3600&maxSampleNumber=1000\"\n",
    "midstream=\"https://southafrica.higeco.com/api/v1/getLogData/118/3163FTFGI39D/2051744/2051744749/?from=\"+str(int(start.timestamp()))+\"&to=\"+str(int(end.timestamp()))+\"&samplingTime=3600&maxSampleNumber=10000\"\n",
    "headers = {\n",
    "\"accept\" : \"application/json\",\n",
    "\"Authorization\": str(tk)\n",
    "}\n",
    "\n",
    "response = requests.get(md, headers=headers)\n",
    "\n",
    "if response.status_code != 200:\n",
    "    print('error: ' + str(response.status_code))\n",
    "else:\n",
    "    print('User List Loaded Successfully')\n",
    "    print (type(response.json()['data']) )\n",
    "    df = pd.DataFrame(response.json()['data'], columns=['Date', 'PA-PV1 kWh'])\n",
    "    df['Date'] = [datetime.fromtimestamp(x) for x in df['Date']]\n",
    "    \n",
    "    \n",
    "    #jprint(response.json())\n",
    "   # df2 = pd.DataFrame(response.json())\n",
    "   # df2\n",
    "#print ( response.json())\n",
    "#print(response.json())\n",
    "df"
   ]
  },
  {
   "cell_type": "code",
   "execution_count": null,
   "id": "5d37f792",
   "metadata": {},
   "outputs": [],
   "source": []
  },
  {
   "cell_type": "code",
   "execution_count": 25,
   "id": "59636330",
   "metadata": {},
   "outputs": [
    {
     "ename": "SyntaxError",
     "evalue": "invalid syntax (3515913623.py, line 8)",
     "output_type": "error",
     "traceback": [
      "\u001b[1;36m  File \u001b[1;32m\"C:\\Users\\mutali\\AppData\\Local\\Temp\\ipykernel_14060\\3515913623.py\"\u001b[1;36m, line \u001b[1;32m8\u001b[0m\n\u001b[1;33m    `['bpi']['USD']['rate_float'])\u001b[0m\n\u001b[1;37m    ^\u001b[0m\n\u001b[1;31mSyntaxError\u001b[0m\u001b[1;31m:\u001b[0m invalid syntax\n"
     ]
    }
   ],
   "source": [
    "import json\n",
    "\n",
    "def jprint(obj):\n",
    "    # create a formatted string of the Python JSON object\n",
    "    text = json.dumps(obj, sort_keys=True, indent=4)\n",
    "    print(text)\n",
    "\n",
    "`['bpi']['USD']['rate_float'])"
   ]
  },
  {
   "cell_type": "code",
   "execution_count": 11,
   "id": "aae21649",
   "metadata": {},
   "outputs": [
    {
     "ename": "TypeError",
     "evalue": "string indices must be integers",
     "output_type": "error",
     "traceback": [
      "\u001b[1;31m---------------------------------------------------------------------------\u001b[0m",
      "\u001b[1;31mTypeError\u001b[0m                                 Traceback (most recent call last)",
      "Input \u001b[1;32mIn [11]\u001b[0m, in \u001b[0;36m<cell line: 3>\u001b[1;34m()\u001b[0m\n\u001b[0;32m      2\u001b[0m bpi_USD\u001b[38;5;241m=\u001b[39m response\u001b[38;5;241m.\u001b[39mjson()[\u001b[38;5;124m'\u001b[39m\u001b[38;5;124mbpi\u001b[39m\u001b[38;5;124m'\u001b[39m][\u001b[38;5;124m'\u001b[39m\u001b[38;5;124mUSD\u001b[39m\u001b[38;5;124m'\u001b[39m]\n\u001b[0;32m      3\u001b[0m \u001b[38;5;28;01mfor\u001b[39;00m d \u001b[38;5;129;01min\u001b[39;00m bpi_USD:\n\u001b[1;32m----> 4\u001b[0m     time \u001b[38;5;241m=\u001b[39m \u001b[43md\u001b[49m\u001b[43m[\u001b[49m\u001b[38;5;124;43m'\u001b[39;49m\u001b[38;5;124;43mrate_float\u001b[39;49m\u001b[38;5;124;43m'\u001b[39;49m\u001b[43m]\u001b[49m\n\u001b[0;32m      5\u001b[0m     risetimes\u001b[38;5;241m.\u001b[39mappend(time)\n\u001b[0;32m      7\u001b[0m \u001b[38;5;28mprint\u001b[39m(risetimes)\n",
      "\u001b[1;31mTypeError\u001b[0m: string indices must be integers"
     ]
    }
   ],
   "source": [
    "risetimes = []\n",
    "bpi_USD= response.json()['bpi']['USD']\n",
    "for d in bpi_USD:\n",
    "    time = d['rate_float']\n",
    "    risetimes.append(time)\n",
    "\n",
    "print(risetimes)"
   ]
  },
  {
   "cell_type": "code",
   "execution_count": null,
   "id": "4a887c97",
   "metadata": {},
   "outputs": [],
   "source": []
  }
 ],
 "metadata": {
  "kernelspec": {
   "display_name": "Python 3 (ipykernel)",
   "language": "python",
   "name": "python3"
  },
  "language_info": {
   "codemirror_mode": {
    "name": "ipython",
    "version": 3
   },
   "file_extension": ".py",
   "mimetype": "text/x-python",
   "name": "python",
   "nbconvert_exporter": "python",
   "pygments_lexer": "ipython3",
   "version": "3.9.13"
  }
 },
 "nbformat": 4,
 "nbformat_minor": 5
}
