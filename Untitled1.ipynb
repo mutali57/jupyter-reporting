{
 "cells": [
  {
   "cell_type": "code",
   "execution_count": 1,
   "id": "79eaa43e",
   "metadata": {},
   "outputs": [
    {
     "ename": "SyntaxError",
     "evalue": "illegal target for annotation (1314932545.py, line 1)",
     "output_type": "error",
     "traceback": [
      "\u001b[1;36m  Input \u001b[1;32mIn [1]\u001b[1;36m\u001b[0m\n\u001b[1;33m    'VERP':round(df['Verg_Energy_(kWh)'].iloc[-1],2),\u001b[0m\n\u001b[1;37m    ^\u001b[0m\n\u001b[1;31mSyntaxError\u001b[0m\u001b[1;31m:\u001b[0m illegal target for annotation\n"
     ]
    }
   ],
   "source": [
    "\n",
    "        'VERP':round(df['Verg_Energy_(kWh)'].iloc[-1],2),\n",
    "        'VERI':round(df['Verg_Irradiated_(kWh/m²)'].iloc[-1],2),\n",
    "        'VERPR':round(df['Verg_PR_(%)'].iloc[-1],2),\n",
    "        'VERA':round(df['Verg_Availability_(%)'].iloc[-1],2),\n",
    "        'VERPV':variance('Verg_Energy_(kWh)','Verg_P50_(kWh)'),\n",
    "        'VERIV':variance('Verg_Irradiated_(kWh/m²)','Verg_estimatedPOA'),\n",
    "        'VERAV':variance('Verg_Availability_(%)', 'Ver_ Availability'),\n",
    "        'VERPRV':variance('Verg_PR_(%)', 'Verg_PRP50'),\n",
    "        \n",
    "        'DURP':round(df['Dur_Energy_produced_(kWh)'].iloc[-1],2),\n",
    "        'DURI':round(df['Dur_Energy_Irradiated_(kWh/m²)'].iloc[-1],2),\n",
    "        'DURPR':round(df['Dur_PR_(%)'].iloc[-1],2),\n",
    "        'DURA':round(df['Dur_Availability_(%)'].iloc[-1],2),\n",
    "        'DURPV':variance('Dur_Energy_produced_(kWh)','Dur_P50_(kWh)'),\n",
    "        'DURIV':variance('Dur_Energy_Irradiated_(kWh/m²)','Dur_estimatedPOA'),\n",
    "        'DURAV':variance('Dur_Availability_(%)', 'Dur_Availability'),\n",
    "        'DURPRV':variance('Dur_PR_(%)', 'Dur_PRP50'),\n",
    "\n",
    "        'MIDP':round(df['Mid_(kWh)2'].iloc[-1],2),\n",
    "        'MIDI':round(df['Mid_Irradiated_(kWh/m²)'].iloc[-1],2),\n",
    "        'MIDPR':round(df['Mid_PR_(%)'].iloc[-1],2),\n",
    "        'MIDA':round(df['Mid_Availability_(%)'].iloc[-1],2),\n",
    "        'MIDPV':variance('Mid_(kWh)2','Mid_P50_(kWh)'),\n",
    "        'MIDIV':variance('Mid_Irradiated_(kWh/m²)','Mid_estimatedPOA'),\n",
    "        'MIDAV':variance('Mid_Availability_(%)', 'Ver_ Availability'),\n",
    "        'MIDPRV':variance('Mid_PR_(%)', 'Mid_PRP50'),\n",
    "        \n",
    "        'HERP':round(df['Her_Energy_produced_(kWh)'].iloc[-1],2),\n",
    "        'HERI':round(df['Her_Energy_Irradiated_(kWh/m²)'].iloc[-1],2),\n",
    "        'HERPR':round(df['Her_PR_(%)'].iloc[-1],2),\n",
    "        'HERA':round(df['Her_Availability_(%)'].iloc[-1],2),\n",
    "        'HERPV':variance('Her_Energy_produced_(kWh)','Her_P50_(kWh)'),\n",
    "        'HERIV':variance('Her_Energy_Irradiated_(kWh/m²)','Her_estimatedPOA'),\n",
    "        'HERAV':variance('Her_Availability_(%)','Her_ Availability'),\n",
    "        'HERPRV':variance('Her_PR_(%)', 'Her_PRP50'),\n",
    "            \n",
    "            HIGP':round(df['Verg_Energy_(kWh)'].iloc[-1],2),\n",
    "        'HIGI':round(df['Verg_Irradiated_(kWh/m²)'].iloc[-1],2),\n",
    "        'HIGPR':round(df['Verg_PR_(%)'].iloc[-1],2),\n",
    "        'HIGA':round(df['Verg_Availability_(%)'].iloc[-1],2),\n",
    "        'HIGPV':variance('Hig_Energy_produced_(kWh)2','Hig_P50_(kWh)'),\n",
    "        'HIGIV':variance('Hig_Energy_Irradiated_(kWh/m²)','Hig_estimatedPOA'),\n",
    "        'HIGAV':variance('Her_Availability_(%)', 'Hig_Availability'),\n",
    "        'HIGPRV':variance('Hig_PR_(%)', 'Hig_PRP50'),"
   ]
  },
  {
   "cell_type": "code",
   "execution_count": null,
   "id": "162b6249",
   "metadata": {},
   "outputs": [],
   "source": [
    "\n"
   ]
  }
 ],
 "metadata": {
  "kernelspec": {
   "display_name": "Python 3 (ipykernel)",
   "language": "python",
   "name": "python3"
  },
  "language_info": {
   "codemirror_mode": {
    "name": "ipython",
    "version": 3
   },
   "file_extension": ".py",
   "mimetype": "text/x-python",
   "name": "python",
   "nbconvert_exporter": "python",
   "pygments_lexer": "ipython3",
   "version": "3.9.12"
  }
 },
 "nbformat": 4,
 "nbformat_minor": 5
}
