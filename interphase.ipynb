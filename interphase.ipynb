{
 "cells": [
  {
   "cell_type": "code",
   "execution_count": 3,
   "id": "58627925",
   "metadata": {},
   "outputs": [],
   "source": [
    "from tkinter import *\n",
    "from tkcalendar import Calendar\n",
    "\n",
    "root =Tk()\n",
    "\n",
    "root.geometry(\"400x400\")\n",
    "\n",
    "cal=Calendar(root,selectmode = 'day',\n",
    "year =2020,month=5, day=22 )\n",
    "cal.pack(pady =20)\n",
    "\n",
    "\n",
    "def grad_date():\n",
    "    date.config(text = \"Selected Date is: \" + cal.get_date())\n",
    " \n",
    "# Add Button and Label\n",
    "Button(root, text = \"Get Date\",\n",
    "       command = grad_date).pack(pady = 20)\n",
    " \n",
    "date = Label(root, text = \"\")\n",
    "date.pack(pady = 20)\n",
    " \n",
    "# Execute Tkinter\n",
    "root.mainloop()"
   ]
  },
  {
   "cell_type": "code",
   "execution_count": 2,
   "id": "076b06d7",
   "metadata": {},
   "outputs": [
    {
     "ename": "NameError",
     "evalue": "name 'Button' is not defined",
     "output_type": "error",
     "traceback": [
      "\u001b[1;31m---------------------------------------------------------------------------\u001b[0m",
      "\u001b[1;31mNameError\u001b[0m                                 Traceback (most recent call last)",
      "Input \u001b[1;32mIn [2]\u001b[0m, in \u001b[0;36m<cell line: 18>\u001b[1;34m()\u001b[0m\n\u001b[0;32m     14\u001b[0m l1\u001b[38;5;241m.\u001b[39mgrid(row\u001b[38;5;241m=\u001b[39m\u001b[38;5;241m1\u001b[39m,column\u001b[38;5;241m=\u001b[39m\u001b[38;5;241m2\u001b[39m)\n\u001b[0;32m     16\u001b[0m sel\u001b[38;5;241m.\u001b[39mtrace(\u001b[38;5;124m'\u001b[39m\u001b[38;5;124mw\u001b[39m\u001b[38;5;124m'\u001b[39m,my_upd) \u001b[38;5;66;03m# on change of string variable \u001b[39;00m\n\u001b[1;32m---> 18\u001b[0m \u001b[43mButton\u001b[49m(root, text \u001b[38;5;241m=\u001b[39m \u001b[38;5;124m\"\u001b[39m\u001b[38;5;124mGet Date\u001b[39m\u001b[38;5;124m\"\u001b[39m,\n\u001b[0;32m     19\u001b[0m        command \u001b[38;5;241m=\u001b[39m my_upd)\u001b[38;5;241m.\u001b[39mpack(pady \u001b[38;5;241m=\u001b[39m \u001b[38;5;241m20\u001b[39m)\n\u001b[0;32m     21\u001b[0m date \u001b[38;5;241m=\u001b[39m Label(root, text \u001b[38;5;241m=\u001b[39m \u001b[38;5;124m\"\u001b[39m\u001b[38;5;124m\"\u001b[39m)\n\u001b[0;32m     22\u001b[0m date\u001b[38;5;241m.\u001b[39mpack(pady \u001b[38;5;241m=\u001b[39m \u001b[38;5;241m20\u001b[39m)\n",
      "\u001b[1;31mNameError\u001b[0m: name 'Button' is not defined"
     ]
    }
   ],
   "source": [
    "import tkinter  as tk \n",
    "from tkcalendar import DateEntry\n",
    "my_w = tk.Tk()\n",
    "my_w.geometry(\"380x200\")  \n",
    "sel=tk.StringVar() # declaring string variable \n",
    "\n",
    "cal=DateEntry(my_w,selectmode='day',textvariable=sel)\n",
    "cal.grid(row=1,column=1,padx=20)\n",
    "\n",
    "def my_upd(*args): # triggered when value of string varaible changes\n",
    "    l1.config(text=sel.get()) # read and display date\n",
    "\n",
    "l1=tk.Label(my_w,bg='yellow')  # Label to display date \n",
    "l1.grid(row=1,column=2)\n",
    "\n",
    "sel.trace('w',my_upd) # on change of string variable \n",
    "\n",
    "Button(root, text = \"Get Date\",\n",
    "       command = my_upd).pack(pady = 20)\n",
    " \n",
    "date = Label(root, text = \"\")\n",
    "date.pack(pady = 20)\n",
    " \n",
    "my_w.mainloop()"
   ]
  },
  {
   "cell_type": "code",
   "execution_count": null,
   "id": "ac1ebd77",
   "metadata": {},
   "outputs": [],
   "source": []
  },
  {
   "cell_type": "code",
   "execution_count": null,
   "id": "ee73231e",
   "metadata": {},
   "outputs": [],
   "source": []
  }
 ],
 "metadata": {
  "kernelspec": {
   "display_name": "Python 3 (ipykernel)",
   "language": "python",
   "name": "python3"
  },
  "language_info": {
   "codemirror_mode": {
    "name": "ipython",
    "version": 3
   },
   "file_extension": ".py",
   "mimetype": "text/x-python",
   "name": "python",
   "nbconvert_exporter": "python",
   "pygments_lexer": "ipython3",
   "version": "3.9.13"
  }
 },
 "nbformat": 4,
 "nbformat_minor": 5
}
